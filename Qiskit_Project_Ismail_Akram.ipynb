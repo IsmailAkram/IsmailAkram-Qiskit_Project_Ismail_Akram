{
 "cells": [
  {
   "cell_type": "markdown",
   "id": "8a8b109d",
   "metadata": {},
   "source": [
    "[![Open In Colab](https://colab.research.google.com/assets/colab-badge.svg)](https://colab.research.google.com/github/IsmailAkram/Qiskit_Project_Ismail_Akram/blob/main/Qiskit_Project_Ismail_Akram.ipynb)"
   ]
  },
  {
   "cell_type": "markdown",
   "id": "9c8cff3a",
   "metadata": {},
   "source": [
    "# Ismail Akram Qiskit Project\n",
    "## PHYS 315 Quantum Computing Professor Cottrell\n",
    "## Deutsch-Jozsa Quantum Circuit"
   ]
  },
  {
   "cell_type": "code",
   "execution_count": 1,
   "id": "9063c3d3",
   "metadata": {},
   "outputs": [],
   "source": [
    "# Importing Packages\n",
    "import numpy as np # for arrays\n",
    "import math as m # for things like ln, e, sqrt(), and so on\n",
    "\n",
    "from qiskit import * # import everything, mainly funcationality like QuantimCircuit() and IBMQ, and Aer\n",
    "# from qiskit.providers.ibmq import least_busy\n",
    "# from qiskit import QuantumCircuit, transpile # instructions for the Quantum system. It holds all quantum operations.\n",
    "# from qiskit.providers.aer import QasmSimulator # Aer higher performance circuit simulator\n",
    "\n",
    "from qiskit.visualization import * # import everything, block spheres graphs, bar graphs for measurements\n",
    "# from qiskit.visualization import plot_histogram # generates histograms\n",
    "\n",
    "S_simulator = Aer.backends(name='statevector_simulator')[0] # allows simulation of states\n",
    "M_simulator = Aer.backends(name='qasm_simulator')[0] # allows simulation of measurements"
   ]
  },
  {
   "cell_type": "markdown",
   "id": "e0736e6c",
   "metadata": {},
   "source": [
    "We'll implement the Deutsch-Jozsa algorithm for an n=3 bit function, and test for both constant and balanced oracles."
   ]
  },
  {
   "cell_type": "markdown",
   "id": "0b4b3953",
   "metadata": {},
   "source": [
    "### Costant Oracle\n",
    "Setting size of input register and creating a constant oracle."
   ]
  },
  {
   "cell_type": "code",
   "execution_count": 2,
   "id": "a8a21776",
   "metadata": {},
   "outputs": [
    {
     "data": {
      "image/png": "[encoded data removed]",
      "text/plain": [
       "<Figure size 146.797x264.88 with 1 Axes>"
      ]
     },
     "execution_count": 2,
     "metadata": {},
     "output_type": "execute_result"
    }
   ],
   "source": [
    "# setting length of n-bit input string\n",
    "n = 3\n",
    "const_oracle = QuantumCircuit(n+1)\n",
    "\n",
    "# setting the output qubit to be 0 or 1 since input has no effect\n",
    "output = np.random.randint(2)\n",
    "if output == 1:\n",
    "    const_oracle.x(n)\n",
    "    \n",
    "const_oracle.draw('mpl')"
   ]
  },
  {
   "cell_type": "markdown",
   "id": "272b6682",
   "metadata": {},
   "source": [
    "### Balanced Oracle\n",
    "Creating a balanced oracle by performing CNOT operations with each input qubit as the control and the output bit as the target."
   ]
  },
  {
   "cell_type": "code",
   "execution_count": 3,
   "id": "5f333cdd",
   "metadata": {},
   "outputs": [
    {
     "data": {
      "image/png": "[encoded data removed]",
      "text/plain": [
       "<Figure size 507.997x264.88 with 1 Axes>"
      ]
     },
     "execution_count": 3,
     "metadata": {},
     "output_type": "execute_result"
    }
   ],
   "source": [
    "# we can create a balanced oracle by using CNOT with easch input qubit as a control and have the output as the target\n",
    "# We can vary the input states that output a 0 or 1 by wrapping some of the controls with X-gates\n",
    "balanced_oracle = QuantumCircuit(n+1)\n",
    "b_str = \"101\" # dictates which controls to wrap\n",
    "\n",
    "\n",
    "# placing aforementioned X-gates\n",
    "# if the corresponding digit is 1, then place an X-gate, else do nothing\n",
    "for qubit in range(len(b_str)):\n",
    "    if b_str[qubit] == '1':\n",
    "        balanced_oracle.x(qubit)\n",
    "\n",
    "# Barrier as divider (highlighted in grey)\n",
    "balanced_oracle.barrier()\n",
    "\n",
    "# Then we apply our CNOT gates using each input qubit as a control and output as a target\n",
    "for qubit in range(n):\n",
    "    balanced_oracle.cx(qubit, n)\n",
    "\n",
    "# Another barrier\n",
    "balanced_oracle.barrier()\n",
    "\n",
    "# And then wrap with X-gates\n",
    "for qubit in range(len(b_str)):\n",
    "    if b_str[qubit] == '1':\n",
    "        balanced_oracle.x(qubit)\n",
    "\n",
    "# Display oracle\n",
    "balanced_oracle.draw('mpl')"
   ]
  },
  {
   "cell_type": "markdown",
   "id": "676689df",
   "metadata": {},
   "source": [
    "Now that we have our constructed balanced oracle, we must test if the Deutsch-Josza algorithm can solve it!"
   ]
  },
  {
   "cell_type": "markdown",
   "id": "b9eaa6ee",
   "metadata": {},
   "source": [
    "# Execution of the full algorithm\n",
    "Putting everything together."
   ]
  },
  {
   "cell_type": "code",
   "execution_count": 4,
   "id": "21effe32",
   "metadata": {},
   "outputs": [
    {
     "data": {
      "image/png": "[encoded data removed]",
      "text/plain": [
       "<Figure size 206.997x325.08 with 1 Axes>"
      ]
     },
     "execution_count": 4,
     "metadata": {},
     "output_type": "execute_result"
    }
   ],
   "source": [
    "# initizaling input qubits as |+> and output qubit as |->\n",
    "dj_circuit = QuantumCircuit(n+1, n)\n",
    "\n",
    "# Applying H-gates (for our input qubits)\n",
    "for qubit in range(n):\n",
    "    dj_circuit.h(qubit)\n",
    "\n",
    "# Placing (ouput) qubit in the state |->\n",
    "dj_circuit.x(n)\n",
    "dj_circuit.h(n)\n",
    "\n",
    "dj_circuit.draw('mpl')"
   ]
  },
  {
   "cell_type": "markdown",
   "id": "8955e15a",
   "metadata": {},
   "source": [
    "Building upon this, we apply the previously made balanced oracle."
   ]
  },
  {
   "cell_type": "code",
   "execution_count": 5,
   "id": "928c9689",
   "metadata": {},
   "outputs": [
    {
     "data": {
      "image/png": "[encoded data removed]",
      "text/plain": [
       "<Figure size 568.197x325.08 with 1 Axes>"
      ]
     },
     "execution_count": 5,
     "metadata": {},
     "output_type": "execute_result"
    }
   ],
   "source": [
    "# Now to compose oracle on the dj_circuit\n",
    "dj_circuit = QuantumCircuit(n+1, n)\n",
    "\n",
    "# Applying H-gates (for our input qubits)\n",
    "for qubit in range(n):\n",
    "    dj_circuit.h(qubit)\n",
    "\n",
    "# Placing (ouput) qubit in the state |->\n",
    "dj_circuit.x(n)\n",
    "dj_circuit.h(n)\n",
    "\n",
    "# Composing oracle\n",
    "dj_circuit.compose(balanced_oracle, inplace = True) # basically \"dj_circuit += balanced_oracle\" but must use the compose function and pass Boolean as \"True\"\n",
    "dj_circuit.draw('mpl')"
   ]
  },
  {
   "cell_type": "markdown",
   "id": "f7e25556",
   "metadata": {},
   "source": [
    "Perfomring H-gates on our n=3 input qubit, and then measuring."
   ]
  },
  {
   "cell_type": "code",
   "execution_count": 6,
   "id": "e23a0e9e",
   "metadata": {},
   "outputs": [
    {
     "data": {
      "image/png": "[encoded data removed]",
      "text/plain": [
       "<Figure size 869.197x325.08 with 1 Axes>"
      ]
     },
     "execution_count": 6,
     "metadata": {},
     "output_type": "execute_result"
    }
   ],
   "source": [
    "# Fianlly, adding Hadamard and then measuring\n",
    "dj_circuit = QuantumCircuit(n+1, n)\n",
    "\n",
    "# Applying H-gates (for our input qubits)\n",
    "for qubit in range(n):\n",
    "    dj_circuit.h(qubit)\n",
    "\n",
    "# Placing (ouput) qubit in the state |->\n",
    "dj_circuit.x(n)\n",
    "dj_circuit.h(n)\n",
    "\n",
    "# Add oracle\n",
    "dj_circuit.compose(balanced_oracle, inplace = True) # basically dj_circuit += balanced_oracle but must use the compose function and pass Boolean as \"True\"\n",
    "\n",
    "# Repeating H-gates\n",
    "for qubit in range(n):\n",
    "    dj_circuit.h(qubit)\n",
    "dj_circuit.barrier()\n",
    "\n",
    "# Measuring\n",
    "for i in range(n):\n",
    "    dj_circuit.measure(i, i)\n",
    "\n",
    "dj_circuit.draw('mpl')"
   ]
  },
  {
   "cell_type": "markdown",
   "id": "1f4f7b24",
   "metadata": {},
   "source": [
    "Analyzing output"
   ]
  },
  {
   "cell_type": "code",
   "execution_count": 7,
   "id": "1c40b4c7",
   "metadata": {},
   "outputs": [
    {
     "data": {
      "image/png": "[encoded data removed]",
      "text/plain": [
       "<Figure size 504x360 with 1 Axes>"
      ]
     },
     "execution_count": 7,
     "metadata": {},
     "output_type": "execute_result"
    }
   ],
   "source": [
    "# Using local simulator\n",
    "aer_sim = Aer.get_backend('aer_simulator')\n",
    "qobj = assemble(dj_circuit, aer_sim)\n",
    "results = aer_sim.run(qobj).result()\n",
    "answer = results.get_counts()\n",
    "\n",
    "plot_histogram(answer)"
   ]
  },
  {
   "cell_type": "markdown",
   "id": "57fd8c64",
   "metadata": {},
   "source": [
    "Conclusion: we have a 0% chance of measuring 000. Which means the function is indeed balanced!"
   ]
  },
  {
   "cell_type": "markdown",
   "id": "51d9ccb9",
   "metadata": {},
   "source": [
    "### Generalizing Circuits\n",
    "To account for generalization, we create a generalized function for Deutsch-Josza oracles. The function will then transform those oracles into our desired quantum gates. The function will take in two inputs: case (balanced or constant) and n (the size of the input register)."
   ]
  },
  {
   "cell_type": "code",
   "execution_count": 8,
   "id": "eeddf81a",
   "metadata": {},
   "outputs": [],
   "source": [
    "# Creating a generalized function that generates Deutsch-Josza oracles and transforms them into quantum gates. It will take:\n",
    "# <case> ... balanced/constant \n",
    "# <n> ... size of input register\n",
    "\n",
    "def dj_oracle(case, n):\n",
    "    \n",
    "    # QuantumCircuit object (to return)\n",
    "    # size: n+1 qubits (n inputs + 1 output)\n",
    "    oracle_qc = QuantumCircuit(n+1)\n",
    "    \n",
    "    # When oracle is balanced\n",
    "    if case == \"balanced\":\n",
    "        \n",
    "        # Generating a randint for which CNOTs to wrap in X-gates, b = binary string:\n",
    "        b = np.random.randint(1,2**n)\n",
    "        \n",
    "        # formatting and padding string b with zeros\n",
    "        b_str = format(b, '0'+str(n)+'b')\n",
    "        \n",
    "        # Placing first X-gates. Each digit in our binary string corresponds to a qubit:\n",
    "        # if the digit is 1, then applying X-gate to that digit\n",
    "        # else, do nothing\n",
    "        for qubit in range(len(b_str)):\n",
    "            if b_str[qubit] == '1':\n",
    "                oracle_qc.x(qubit)\n",
    "        \n",
    "        # CNOT gates for each qubit, using target output qubit\n",
    "        for qubit in range(n):\n",
    "            oracle_qc.cx(qubit, n)\n",
    "        \n",
    "        # Placing final X-gates\n",
    "        for qubit in range(len(b_str)):\n",
    "            if b_str[qubit] == '1':\n",
    "                oracle_qc.x(qubit)\n",
    "\n",
    "    # When oracle is constant\n",
    "    if case == \"constant\":\n",
    "        \n",
    "        # Using randint to detemrine the fixed output of the oracle (always 0 or always 1)\n",
    "        output = np.random.randint(2)\n",
    "        if output == 1:\n",
    "            oracle_qc.x(n)\n",
    "    \n",
    "    # Transforming into gates\n",
    "    oracle_gate = oracle_qc.to_gate()\n",
    "    oracle_gate.name = \" Oracle\" # Display\n",
    "    return oracle_gate"
   ]
  },
  {
   "cell_type": "markdown",
   "id": "541a2999",
   "metadata": {},
   "source": [
    "Function that takes in the above function and applies Deutsch-Josza algorithm."
   ]
  },
  {
   "cell_type": "code",
   "execution_count": 9,
   "id": "164408bd",
   "metadata": {},
   "outputs": [],
   "source": [
    "# Function that takes in above oracle gate as input and applys Deutsch-Josza algorithm\n",
    "\n",
    "def dj_algorithm(oracle, n):\n",
    "    dj_circuit = QuantumCircuit(n+1, n)\n",
    "    \n",
    "    # Output qubit\n",
    "    dj_circuit.x(n)\n",
    "    dj_circuit.h(n)\n",
    "    \n",
    "    # Input register\n",
    "    for qubit in range(n):\n",
    "        dj_circuit.h(qubit)\n",
    "    \n",
    "    # Appending aforementioned oracle gate on our circuit:\n",
    "    dj_circuit.append(oracle, range(n+1))\n",
    "    \n",
    "    # Performing H-gates (again) and measuring:\n",
    "    for qubit in range(n):\n",
    "        dj_circuit.h(qubit)\n",
    "    \n",
    "    for i in range(n):\n",
    "        dj_circuit.measure(i, i)\n",
    "    \n",
    "    return dj_circuit"
   ]
  },
  {
   "cell_type": "code",
   "execution_count": 10,
   "id": "fa95139f",
   "metadata": {},
   "outputs": [
    {
     "data": {
      "image/png": "[encoded data removed]",
      "text/plain": [
       "<Figure size 628.397x385.28 with 1 Axes>"
      ]
     },
     "execution_count": 10,
     "metadata": {},
     "output_type": "execute_result"
    }
   ],
   "source": [
    "# Testing\n",
    "n = 4\n",
    "oracle_gate = dj_oracle('balanced', n)\n",
    "dj_circuit = dj_algorithm(oracle_gate, n)\n",
    "dj_circuit.draw('mpl')"
   ]
  },
  {
   "cell_type": "markdown",
   "id": "7d60c997",
   "metadata": {},
   "source": [
    "Now let's see the results of executing this circuit."
   ]
  },
  {
   "cell_type": "code",
   "execution_count": 11,
   "id": "3ddf32d6",
   "metadata": {},
   "outputs": [
    {
     "data": {
      "image/png": "[encoded data removed]",
      "text/plain": [
       "<Figure size 504x360 with 1 Axes>"
      ]
     },
     "execution_count": 11,
     "metadata": {},
     "output_type": "execute_result"
    }
   ],
   "source": [
    "# Plotting\n",
    "transpiled_dj_circuit = transpile(dj_circuit, aer_sim)\n",
    "qobj = assemble(transpiled_dj_circuit)\n",
    "results = aer_sim.run(qobj).result()\n",
    "answer = results.get_counts()\n",
    "plot_histogram(answer)"
   ]
  },
  {
   "cell_type": "markdown",
   "id": "754eb7b6",
   "metadata": {},
   "source": [
    "Conclusion: and like before, we have a 0% chance of measuring 0000. Function is balanced and works!"
   ]
  },
  {
   "cell_type": "markdown",
   "id": "5a78f123",
   "metadata": {},
   "source": [
    "# Experimenting with a real device\n",
    "Now to apply on a real IBM device."
   ]
  },
  {
   "cell_type": "code",
   "execution_count": 12,
   "id": "a425c7d7",
   "metadata": {},
   "outputs": [
    {
     "name": "stderr",
     "output_type": "stream",
     "text": [
      "configrc.store_credentials:WARNING:2022-06-07 22:36:38,589: Credentials already present. Set overwrite=True to overwrite.\n"
     ]
    },
    {
     "name": "stdout",
     "output_type": "stream",
     "text": [
      "least busy backend:  ibmq_lima\n"
     ]
    }
   ],
   "source": [
    "# Loading IBMQ accounts and using the least busy backend device (with >= (n+1) qubits)\n",
    "from qiskit.providers.ibmq import least_busy\n",
    "\n",
    "IBMQ.save_account('6b793b8fa16948141373c700d6c3891cb0e0f07f7fec6f4c83595d664cc49cd3424c50fe920607f4a97dfdfeb0d60102e99ebf580a83b5128befeabf9f7a6ea7')\n",
    "IBMQ.load_account()\n",
    "provider = IBMQ.get_provider(hub='ibm-q')\n",
    "\n",
    "backend = least_busy(provider.backends(filters=lambda x: x.configuration().n_qubits >= (n+1) and\n",
    "                                   not x.configuration().simulator and x.status().operational==True))\n",
    "print(\"least busy backend: \", backend)"
   ]
  },
  {
   "cell_type": "code",
   "execution_count": 13,
   "id": "0ec09655",
   "metadata": {},
   "outputs": [
    {
     "name": "stdout",
     "output_type": "stream",
     "text": [
      "Job Status: job has successfully run\n"
     ]
    }
   ],
   "source": [
    "# Runing our circuit on the least busy backend. Monitor the execution of the job in the queue\n",
    "from qiskit.tools.monitor import job_monitor\n",
    "\n",
    "transpiled_dj_circuit = transpile(dj_circuit, backend, optimization_level=3)\n",
    "job = backend.run(transpiled_dj_circuit)\n",
    "job_monitor(job, interval=2)"
   ]
  },
  {
   "cell_type": "code",
   "execution_count": 14,
   "id": "305137e7",
   "metadata": {},
   "outputs": [
    {
     "data": {
      "image/png": "[encoded data removed]",
      "text/plain": [
       "<Figure size 504x360 with 1 Axes>"
      ]
     },
     "execution_count": 14,
     "metadata": {},
     "output_type": "execute_result"
    }
   ],
   "source": [
    "# Get the results of the computation\n",
    "results = job.result()\n",
    "answer = results.get_counts()\n",
    "\n",
    "plot_histogram(answer)"
   ]
  },
  {
   "cell_type": "markdown",
   "id": "6d212e73",
   "metadata": {},
   "source": [
    "Conclusion: interestingly, this time the most likely result is 1111. We don't have a single block histogram like before. This is due to the other results being errors in the quantum computation (i.e. theory vs reality of execution).\n",
    "\n",
    "Even so, we know this function is balanced."
   ]
  }
 ],
 "metadata": {
  "kernelspec": {
   "display_name": "Python 3",
   "language": "python",
   "name": "python3"
  },
  "language_info": {
   "codemirror_mode": {
    "name": "ipython",
    "version": 3
   },
   "file_extension": ".py",
   "mimetype": "text/x-python",
   "name": "python",
   "nbconvert_exporter": "python",
   "pygments_lexer": "ipython3",
   "version": "3.8.8"
  }
 },
 "nbformat": 4,
 "nbformat_minor": 5
}
